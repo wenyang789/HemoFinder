{
  "cells": [
    {
      "cell_type": "markdown",
      "metadata": {
        "colab_type": "text",
        "id": "view-in-github"
      },
      "source": [
        "<a href=\"https://colab.research.google.com/github/Cpillar/-liunx-web-/blob/main/Hemo_finder.ipynb\" target=\"_parent\"><img src=\"https://colab.research.google.com/assets/colab-badge.svg\" alt=\"Open In Colab\"/></a>"
      ]
    },
    {
      "cell_type": "code",
      "execution_count": null,
      "metadata": {
        "id": "l4HgS0LzGvp1"
      },
      "outputs": [],
      "source": [
        "import pandas as pd\n",
        "\n",
        "df = pd.read_csv('train_feature.csv')\n",
        "df_test = pd.read_csv('test_feature.csv')\n",
        "df = df.sample(frac=1).reset_index(drop=True)\n",
        "df_test = df_test.sample(frac=1).reset_index(drop=True)\n",
        "X_train = df.iloc[:, 2:]\n",
        "y_train = df.iloc[:, 0].str.split('_', expand=True)[1].astype(int)\n",
        "X_test = df_test.iloc[:, 2:]\n",
        "y_test = df_test.iloc[:, 0].str.split('_', expand=True)[1].astype(int)"
      ]
    },
    {
      "cell_type": "code",
      "execution_count": 11,
      "metadata": {
        "id": "hr6TujScISXk"
      },
      "outputs": [],
      "source": [
        "from sklearn.model_selection import train_test_split\n",
        "from sklearn.linear_model import LogisticRegression\n",
        "from xgboost import XGBClassifier\n",
        "from sklearn.tree import DecisionTreeClassifier\n",
        "from sklearn.neighbors import KNeighborsClassifier\n",
        "from sklearn.ensemble import RandomForestClassifier, VotingClassifier\n",
        "from sklearn.neural_network import MLPClassifier\n",
        "from sklearn.metrics import confusion_matrix, accuracy_score, matthews_corrcoef, precision_score, recall_score\n",
        "import os\n",
        "from subprocess import call\n",
        "import pandas as pd\n",
        "import pandas as pd\n",
        "from sklearn.impute import SimpleImputer\n",
        "from sklearn.model_selection import train_test_split\n",
        "from sklearn.linear_model import LogisticRegression\n",
        "from sklearn.ensemble import RandomForestClassifier, GradientBoostingClassifier, VotingClassifier\n",
        "from sklearn.metrics import confusion_matrix, accuracy_score, matthews_corrcoef, precision_score, recall_score\n",
        "import xgboost as xgb\n",
        "from sklearn.tree import DecisionTreeClassifier\n",
        "from sklearn.neighbors import KNeighborsClassifier\n",
        "from sklearn.neural_network import MLPClassifier\n",
        "import joblib\n",
        "classifiers = {\n",
        "    'LR': LogisticRegression(max_iter=20),\n",
        "    'XGB': XGBClassifier(use_label_encoder=False, eval_metric='logloss'),\n",
        "    'DT': DecisionTreeClassifier(),\n",
        "    'KNN': KNeighborsClassifier(),\n",
        "    'RF': RandomForestClassifier(),\n",
        "    'ANN': MLPClassifier(hidden_layer_sizes=(128, 64, 32, 16), max_iter=20)\n",
        "}\n"
      ]
    },
    {
      "cell_type": "code",
      "execution_count": 12,
      "metadata": {
        "colab": {
          "base_uri": "https://localhost:8080/"
        },
        "id": "Jhfg3ZMYIPat",
        "outputId": "e50c21b8-2a5e-447b-ca2b-073a96e46196"
      },
      "outputs": [
        {
          "name": "stderr",
          "output_type": "stream",
          "text": [
            "/Users/wendy/opt/anaconda3/envs/sklearn-env/lib/python3.9/site-packages/sklearn/linear_model/_logistic.py:469: ConvergenceWarning: lbfgs failed to converge (status=1):\n",
            "STOP: TOTAL NO. of ITERATIONS REACHED LIMIT.\n",
            "\n",
            "Increase the number of iterations (max_iter) or scale the data as shown in:\n",
            "    https://scikit-learn.org/stable/modules/preprocessing.html\n",
            "Please also refer to the documentation for alternative solver options:\n",
            "    https://scikit-learn.org/stable/modules/linear_model.html#logistic-regression\n",
            "  n_iter_i = _check_optimize_result(\n"
          ]
        },
        {
          "name": "stdout",
          "output_type": "stream",
          "text": [
            "LR Confusion Matrix:\n",
            " [[195  95]\n",
            " [ 80 249]]\n",
            "LR Accuracy: 0.7172859450726979\n",
            "LR MCC: 0.4310864916008123\n",
            "LR Precision: 0.7169286033874456\n",
            "LR Recall: 0.7172859450726979\n"
          ]
        },
        {
          "name": "stderr",
          "output_type": "stream",
          "text": [
            "/Users/wendy/opt/anaconda3/envs/sklearn-env/lib/python3.9/site-packages/xgboost/core.py:158: UserWarning: [15:33:47] WARNING: /var/folders/c_/qfmhj66j0tn016nkx_th4hxm0000gp/T/abs_b6qk1lz_ug/croot/xgboost-split_1724073748391/work/src/learner.cc:740: \n",
            "Parameters: { \"use_label_encoder\" } are not used.\n",
            "\n",
            "  warnings.warn(smsg, UserWarning)\n"
          ]
        },
        {
          "name": "stdout",
          "output_type": "stream",
          "text": [
            "XGB Confusion Matrix:\n",
            " [[254  36]\n",
            " [ 68 261]]\n",
            "XGB Accuracy: 0.8319870759289176\n",
            "XGB MCC: 0.6683909872777538\n",
            "XGB Precision: 0.8366380873931623\n",
            "XGB Recall: 0.8319870759289176\n",
            "DT Confusion Matrix:\n",
            " [[222  68]\n",
            " [ 98 231]]\n",
            "DT Accuracy: 0.7318255250403877\n",
            "DT MCC: 0.466984609745871\n",
            "DT Precision: 0.7356458118337377\n",
            "DT Recall: 0.7318255250403877\n",
            "KNN Confusion Matrix:\n",
            " [[206  84]\n",
            " [ 66 263]]\n",
            "KNN Accuracy: 0.7576736672051696\n",
            "KNN MCC: 0.5124999803933925\n",
            "KNN Precision: 0.7576570301201074\n",
            "KNN Recall: 0.7576736672051696\n",
            "RF Confusion Matrix:\n",
            " [[242  48]\n",
            " [ 63 266]]\n",
            "RF Accuracy: 0.8206785137318255\n",
            "RF MCC: 0.6417837510788142\n",
            "RF Precision: 0.8219795913169056\n",
            "RF Recall: 0.8206785137318255\n",
            "ANN Confusion Matrix:\n",
            " [[223  67]\n",
            " [ 55 274]]\n",
            "ANN Accuracy: 0.802907915993538\n",
            "ANN MCC: 0.6037316748726239\n",
            "ANN Precision: 0.8028815356083563\n",
            "ANN Recall: 0.802907915993538\n"
          ]
        },
        {
          "name": "stderr",
          "output_type": "stream",
          "text": [
            "/Users/wendy/opt/anaconda3/envs/sklearn-env/lib/python3.9/site-packages/sklearn/neural_network/_multilayer_perceptron.py:690: ConvergenceWarning: Stochastic Optimizer: Maximum iterations (20) reached and the optimization hasn't converged yet.\n",
            "  warnings.warn(\n"
          ]
        }
      ],
      "source": [
        "# Train classifiers\n",
        "for name, clf in classifiers.items():\n",
        "    clf.fit(X_train, y_train)\n",
        "    y_pred = clf.predict(X_test)\n",
        "    print(f'{name} Confusion Matrix:\\n', confusion_matrix(y_test, y_pred))\n",
        "    print(f'{name} Accuracy: {accuracy_score(y_test, y_pred)}')\n",
        "    print(f'{name} MCC: {matthews_corrcoef(y_test, y_pred)}')\n",
        "    print(f'{name} Precision: {precision_score(y_test, y_pred, average=\"weighted\")}')\n",
        "    print(f'{name} Recall: {recall_score(y_test, y_pred, average=\"weighted\")}')"
      ]
    },
    {
      "cell_type": "code",
      "execution_count": 13,
      "metadata": {
        "colab": {
          "base_uri": "https://localhost:8080/"
        },
        "id": "6GVMTSGxILnQ",
        "outputId": "59b21751-4f48-4aa2-b1b9-a3fc17c5be3f"
      },
      "outputs": [
        {
          "name": "stderr",
          "output_type": "stream",
          "text": [
            "/Users/wendy/opt/anaconda3/envs/sklearn-env/lib/python3.9/site-packages/sklearn/linear_model/_logistic.py:469: ConvergenceWarning: lbfgs failed to converge (status=1):\n",
            "STOP: TOTAL NO. of ITERATIONS REACHED LIMIT.\n",
            "\n",
            "Increase the number of iterations (max_iter) or scale the data as shown in:\n",
            "    https://scikit-learn.org/stable/modules/preprocessing.html\n",
            "Please also refer to the documentation for alternative solver options:\n",
            "    https://scikit-learn.org/stable/modules/linear_model.html#logistic-regression\n",
            "  n_iter_i = _check_optimize_result(\n",
            "/Users/wendy/opt/anaconda3/envs/sklearn-env/lib/python3.9/site-packages/xgboost/core.py:158: UserWarning: [15:33:55] WARNING: /var/folders/c_/qfmhj66j0tn016nkx_th4hxm0000gp/T/abs_b6qk1lz_ug/croot/xgboost-split_1724073748391/work/src/learner.cc:740: \n",
            "Parameters: { \"use_label_encoder\" } are not used.\n",
            "\n",
            "  warnings.warn(smsg, UserWarning)\n",
            "/Users/wendy/opt/anaconda3/envs/sklearn-env/lib/python3.9/site-packages/sklearn/neural_network/_multilayer_perceptron.py:690: ConvergenceWarning: Stochastic Optimizer: Maximum iterations (20) reached and the optimization hasn't converged yet.\n",
            "  warnings.warn(\n"
          ]
        },
        {
          "name": "stdout",
          "output_type": "stream",
          "text": [
            "Voting Classifier Confusion Matrix:\n",
            " [[239  51]\n",
            " [ 51 278]]\n",
            "Voting Classifier Accuracy:  0.8352180936995154\n",
            "Voting Classifier MCC:  0.6691227334660937\n",
            "Voting Classifier Precision:  0.8352180936995154\n",
            "Voting Classifier Recall:  0.8352180936995154\n"
          ]
        }
      ],
      "source": [
        "# Ensemble Voting Classifier\n",
        "voting_clf = VotingClassifier(estimators=[\n",
        "    ('lr', classifiers['LR']),\n",
        "    ('xgb', classifiers['XGB']),\n",
        "    # ('dt', classifiers['DT']),\n",
        "    ('knn', classifiers['KNN']),\n",
        "    ('rf', classifiers['RF']),\n",
        "    ('ann', classifiers['ANN'])\n",
        "], voting='soft')\n",
        "\n",
        "voting_clf.fit(X_train, y_train)\n",
        "y_pred_voting = voting_clf.predict(X_test)\n",
        "print('Voting Classifier Confusion Matrix:\\n', confusion_matrix(y_test, y_pred_voting))\n",
        "print('Voting Classifier Accuracy: ', accuracy_score(y_test, y_pred_voting))\n",
        "print('Voting Classifier MCC: ', matthews_corrcoef(y_test, y_pred_voting))\n",
        "print('Voting Classifier Precision: ', precision_score(y_test, y_pred_voting, average=\"weighted\"))\n",
        "print('Voting Classifier Recall: ', recall_score(y_test, y_pred_voting, average=\"weighted\"))\n"
      ]
    },
    {
      "cell_type": "code",
      "execution_count": null,
      "metadata": {
        "colab": {
          "base_uri": "https://localhost:8080/"
        },
        "id": "7W0Qoce9iZF_",
        "outputId": "941b25e9-8ba3-4422-e7b2-a57ac6e22719"
      },
      "outputs": [
        {
          "data": {
            "text/plain": [
              "['voting_classifier_model_s1.pkl']"
            ]
          },
          "execution_count": 131,
          "metadata": {},
          "output_type": "execute_result"
        }
      ],
      "source": [
        "joblib.dump(voting_clf,\"voting_classifier_model_s1.pkl\")"
      ]
    }
  ],
  "metadata": {
    "colab": {
      "authorship_tag": "ABX9TyPvYEKlkafuuiG3X50wbfkx",
      "include_colab_link": true,
      "provenance": []
    },
    "kernelspec": {
      "display_name": "sklearn-env",
      "language": "python",
      "name": "python3"
    },
    "language_info": {
      "codemirror_mode": {
        "name": "ipython",
        "version": 3
      },
      "file_extension": ".py",
      "mimetype": "text/x-python",
      "name": "python",
      "nbconvert_exporter": "python",
      "pygments_lexer": "ipython3",
      "version": "3.9.19"
    }
  },
  "nbformat": 4,
  "nbformat_minor": 0
}
