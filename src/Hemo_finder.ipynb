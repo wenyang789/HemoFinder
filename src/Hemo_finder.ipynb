{
  "nbformat": 4,
  "nbformat_minor": 0,
  "metadata": {
    "colab": {
      "provenance": [],
      "authorship_tag": "ABX9TyPvYEKlkafuuiG3X50wbfkx",
      "include_colab_link": true
    },
    "kernelspec": {
      "name": "python3",
      "display_name": "Python 3"
    },
    "language_info": {
      "name": "python"
    }
  },
  "cells": [
    {
      "cell_type": "markdown",
      "metadata": {
        "id": "view-in-github",
        "colab_type": "text"
      },
      "source": [
        "<a href=\"https://colab.research.google.com/github/Cpillar/-liunx-web-/blob/main/Hemo_finder.ipynb\" target=\"_parent\"><img src=\"https://colab.research.google.com/assets/colab-badge.svg\" alt=\"Open In Colab\"/></a>"
      ]
    },
    {
      "cell_type": "code",
      "execution_count": null,
      "metadata": {
        "id": "l4HgS0LzGvp1"
      },
      "outputs": [],
      "source": [
        "import pandas as pd\n",
        "\n",
        "df = pd.read_csv('S1_train_feature.csv')\n",
        "df_test =pd.read_csv('S1_test_feature.csv')\n",
        "df = df.sample(frac=1).reset_index(drop=True)\n",
        "X_train=df.iloc[:, 2:]\n",
        "y_train=df.iloc[:, 1]\n",
        "X_test=df_test.iloc[:, 2:]\n",
        "y_test=df_test.iloc[:, 1]"
      ]
    },
    {
      "cell_type": "code",
      "source": [
        "from sklearn.model_selection import train_test_split\n",
        "from sklearn.linear_model import LogisticRegression\n",
        "from xgboost import XGBClassifier\n",
        "from sklearn.tree import DecisionTreeClassifier\n",
        "from sklearn.neighbors import KNeighborsClassifier\n",
        "from sklearn.ensemble import RandomForestClassifier, VotingClassifier\n",
        "from sklearn.neural_network import MLPClassifier\n",
        "from sklearn.metrics import confusion_matrix, accuracy_score, matthews_corrcoef, precision_score, recall_score\n",
        "import os\n",
        "from subprocess import call\n",
        "import pandas as pd\n",
        "import pandas as pd\n",
        "from sklearn.impute import SimpleImputer\n",
        "from sklearn.model_selection import train_test_split\n",
        "from sklearn.linear_model import LogisticRegression\n",
        "from sklearn.ensemble import RandomForestClassifier, GradientBoostingClassifier, VotingClassifier\n",
        "from sklearn.metrics import confusion_matrix, accuracy_score, matthews_corrcoef, precision_score, recall_score\n",
        "import xgboost as xgb\n",
        "from sklearn.tree import DecisionTreeClassifier\n",
        "from sklearn.neighbors import KNeighborsClassifier\n",
        "from sklearn.neural_network import MLPClassifier\n",
        "import joblib\n",
        "classifiers = {\n",
        "    'LR': LogisticRegression(max_iter=20),\n",
        "    'XGB': XGBClassifier(use_label_encoder=False, eval_metric='logloss'),\n",
        "    'DT': DecisionTreeClassifier(),\n",
        "    'KNN': KNeighborsClassifier(),\n",
        "    'RF': RandomForestClassifier(),\n",
        "    'ANN': MLPClassifier(hidden_layer_sizes=(128, 64, 32, 16), max_iter=20)\n",
        "}\n"
      ],
      "metadata": {
        "id": "hr6TujScISXk"
      },
      "execution_count": null,
      "outputs": []
    },
    {
      "cell_type": "code",
      "source": [
        "# Train classifiers\n",
        "for name, clf in classifiers.items():\n",
        "    clf.fit(X_train, y_train)\n",
        "    y_pred = clf.predict(X_test)\n",
        "    print(f'{name} Confusion Matrix:\\n', confusion_matrix(y_test, y_pred))\n",
        "    print(f'{name} Accuracy: {accuracy_score(y_test, y_pred)}')\n",
        "    print(f'{name} MCC: {matthews_corrcoef(y_test, y_pred)}')\n",
        "    print(f'{name} Precision: {precision_score(y_test, y_pred, average=\"weighted\")}')\n",
        "    print(f'{name} Recall: {recall_score(y_test, y_pred, average=\"weighted\")}')"
      ],
      "metadata": {
        "id": "Jhfg3ZMYIPat",
        "colab": {
          "base_uri": "https://localhost:8080/"
        },
        "outputId": "e50c21b8-2a5e-447b-ca2b-073a96e46196"
      },
      "execution_count": null,
      "outputs": [
        {
          "output_type": "stream",
          "name": "stderr",
          "text": [
            "/usr/local/lib/python3.10/dist-packages/sklearn/linear_model/_logistic.py:469: ConvergenceWarning: lbfgs failed to converge (status=1):\n",
            "STOP: TOTAL NO. of ITERATIONS REACHED LIMIT.\n",
            "\n",
            "Increase the number of iterations (max_iter) or scale the data as shown in:\n",
            "    https://scikit-learn.org/stable/modules/preprocessing.html\n",
            "Please also refer to the documentation for alternative solver options:\n",
            "    https://scikit-learn.org/stable/modules/linear_model.html#logistic-regression\n",
            "  n_iter_i = _check_optimize_result(\n"
          ]
        },
        {
          "output_type": "stream",
          "name": "stdout",
          "text": [
            "LR Confusion Matrix:\n",
            " [[107   3]\n",
            " [ 10 100]]\n",
            "LR Accuracy: 0.9409090909090909\n",
            "LR MCC: 0.8836091227097848\n",
            "LR Precision: 0.9427018504688407\n",
            "LR Recall: 0.9409090909090909\n"
          ]
        },
        {
          "output_type": "stream",
          "name": "stderr",
          "text": [
            "/usr/local/lib/python3.10/dist-packages/xgboost/core.py:158: UserWarning: [10:43:59] WARNING: /workspace/src/learner.cc:740: \n",
            "Parameters: { \"use_label_encoder\" } are not used.\n",
            "\n",
            "  warnings.warn(smsg, UserWarning)\n"
          ]
        },
        {
          "output_type": "stream",
          "name": "stdout",
          "text": [
            "XGB Confusion Matrix:\n",
            " [[107   3]\n",
            " [  6 104]]\n",
            "XGB Accuracy: 0.9590909090909091\n",
            "XGB MCC: 0.9185234813678781\n",
            "XGB Precision: 0.9594326358448432\n",
            "XGB Recall: 0.9590909090909091\n",
            "DT Confusion Matrix:\n",
            " [[100  10]\n",
            " [ 10 100]]\n",
            "DT Accuracy: 0.9090909090909091\n",
            "DT MCC: 0.8181818181818182\n",
            "DT Precision: 0.9090909090909091\n",
            "DT Recall: 0.9090909090909091\n",
            "KNN Confusion Matrix:\n",
            " [[100  10]\n",
            " [  5 105]]\n",
            "KNN Accuracy: 0.9318181818181818\n",
            "KNN MCC: 0.864529934867251\n",
            "KNN Precision: 0.9327122153209109\n",
            "KNN Recall: 0.9318181818181818\n",
            "RF Confusion Matrix:\n",
            " [[109   1]\n",
            " [  7 103]]\n",
            "RF Accuracy: 0.9636363636363636\n",
            "RF MCC: 0.9286552269297679\n",
            "RF Precision: 0.9650198938992043\n",
            "RF Recall: 0.9636363636363636\n",
            "ANN Confusion Matrix:\n",
            " [[106   4]\n",
            " [  3 107]]\n",
            "ANN Accuracy: 0.9681818181818181\n",
            "ANN MCC: 0.9364023314743566\n",
            "ANN Precision: 0.9682205140920737\n",
            "ANN Recall: 0.9681818181818181\n"
          ]
        },
        {
          "output_type": "stream",
          "name": "stderr",
          "text": [
            "/usr/local/lib/python3.10/dist-packages/sklearn/neural_network/_multilayer_perceptron.py:690: ConvergenceWarning: Stochastic Optimizer: Maximum iterations (20) reached and the optimization hasn't converged yet.\n",
            "  warnings.warn(\n"
          ]
        }
      ]
    },
    {
      "cell_type": "code",
      "source": [
        "# Ensemble Voting Classifier\n",
        "voting_clf = VotingClassifier(estimators=[\n",
        "    ('lr', classifiers['LR']),\n",
        "    ('xgb', classifiers['XGB']),\n",
        "    # ('dt', classifiers['DT']),\n",
        "    ('knn', classifiers['KNN']),\n",
        "    ('rf', classifiers['RF']),\n",
        "    ('ann', classifiers['ANN'])\n",
        "], voting='soft')\n",
        "\n",
        "voting_clf.fit(X_train, y_train)\n",
        "y_pred_voting = voting_clf.predict(X_test)\n",
        "print('Voting Classifier Confusion Matrix:\\n', confusion_matrix(y_test, y_pred_voting))\n",
        "print('Voting Classifier Accuracy: ', accuracy_score(y_test, y_pred_voting))\n",
        "print('Voting Classifier MCC: ', matthews_corrcoef(y_test, y_pred_voting))\n",
        "print('Voting Classifier Precision: ', precision_score(y_test, y_pred_voting, average=\"weighted\"))\n",
        "print('Voting Classifier Recall: ', recall_score(y_test, y_pred_voting, average=\"weighted\"))\n"
      ],
      "metadata": {
        "id": "6GVMTSGxILnQ",
        "colab": {
          "base_uri": "https://localhost:8080/"
        },
        "outputId": "59b21751-4f48-4aa2-b1b9-a3fc17c5be3f"
      },
      "execution_count": null,
      "outputs": [
        {
          "output_type": "stream",
          "name": "stderr",
          "text": [
            "/usr/local/lib/python3.10/dist-packages/sklearn/linear_model/_logistic.py:469: ConvergenceWarning: lbfgs failed to converge (status=1):\n",
            "STOP: TOTAL NO. of ITERATIONS REACHED LIMIT.\n",
            "\n",
            "Increase the number of iterations (max_iter) or scale the data as shown in:\n",
            "    https://scikit-learn.org/stable/modules/preprocessing.html\n",
            "Please also refer to the documentation for alternative solver options:\n",
            "    https://scikit-learn.org/stable/modules/linear_model.html#logistic-regression\n",
            "  n_iter_i = _check_optimize_result(\n",
            "/usr/local/lib/python3.10/dist-packages/xgboost/core.py:158: UserWarning: [10:44:02] WARNING: /workspace/src/learner.cc:740: \n",
            "Parameters: { \"use_label_encoder\" } are not used.\n",
            "\n",
            "  warnings.warn(smsg, UserWarning)\n",
            "/usr/local/lib/python3.10/dist-packages/sklearn/neural_network/_multilayer_perceptron.py:690: ConvergenceWarning: Stochastic Optimizer: Maximum iterations (20) reached and the optimization hasn't converged yet.\n",
            "  warnings.warn(\n"
          ]
        },
        {
          "output_type": "stream",
          "name": "stdout",
          "text": [
            "Voting Classifier Confusion Matrix:\n",
            " [[109   1]\n",
            " [  5 105]]\n",
            "Voting Classifier Accuracy:  0.9727272727272728\n",
            "Voting Classifier MCC:  0.9460802599806519\n",
            "Voting Classifier Precision:  0.973353194306521\n",
            "Voting Classifier Recall:  0.9727272727272728\n"
          ]
        }
      ]
    },
    {
      "cell_type": "code",
      "source": [
        "joblib.dump(voting_clf,\"voting_classifier_model_s1.pkl\")"
      ],
      "metadata": {
        "colab": {
          "base_uri": "https://localhost:8080/"
        },
        "id": "7W0Qoce9iZF_",
        "outputId": "941b25e9-8ba3-4422-e7b2-a57ac6e22719"
      },
      "execution_count": null,
      "outputs": [
        {
          "output_type": "execute_result",
          "data": {
            "text/plain": [
              "['voting_classifier_model_s1.pkl']"
            ]
          },
          "metadata": {},
          "execution_count": 131
        }
      ]
    }
  ]
}